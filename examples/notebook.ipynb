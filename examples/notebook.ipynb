{
  "metadata": {},
  "cells": [
    {
      "metadata": {},
      "cell_type": "markdown",
      "source": "# Test notebook"
    },
    {
      "metadata": {},
      "cell_type": "markdown",
      "source": "This is a text notebook. Here _are_ some **rich text**, `code`, $\\pi\\simeq 3.1415$ equations."
    },
    {
      "metadata": {},
      "cell_type": "markdown",
      "source": "Another equation:"
    },
    {
      "metadata": {},
      "cell_type": "markdown",
      "source": "$$\\sum_{i=1}^n x_i$$"
    },
    {
      "metadata": {},
      "cell_type": "markdown",
      "source": "Python code:"
    },
    {
      "metadata": {},
      "execution_count": null,
      "cell_type": "code",
      "source": "# some code in python\ndef f(x):\n    y = x * x\n    return y",
      "outputs": []
    },
    {
      "metadata": {},
      "cell_type": "markdown",
      "source": "Random code:"
    },
    {
      "metadata": {},
      "cell_type": "markdown",
      "source": "```javascript\nconsole.log(\"hello\" + 3);\n```"
    },
    {
      "metadata": {},
      "cell_type": "markdown",
      "source": "Python code:"
    },
    {
      "metadata": {},
      "execution_count": null,
      "cell_type": "code",
      "source": "import IPython\nprint(\"Hello world!\")",
      "outputs": [
        {
          "metadata": {},
          "output_type": "execute_result",
          "data": {
            "text/plain": "Hello world!"
          },
          "execution_count": null
        }
      ]
    },
    {
      "metadata": {},
      "execution_count": null,
      "cell_type": "code",
      "source": "2*2",
      "outputs": [
        {
          "metadata": {},
          "output_type": "execute_result",
          "data": {
            "text/plain": "4"
          },
          "execution_count": null
        }
      ]
    },
    {
      "metadata": {},
      "execution_count": null,
      "cell_type": "code",
      "source": "@decorator\ndef f(x):\n    pass\n3*3",
      "outputs": [
        {
          "metadata": {},
          "output_type": "execute_result",
          "data": {
            "text/plain": "9"
          },
          "execution_count": null
        }
      ]
    },
    {
      "metadata": {},
      "cell_type": "markdown",
      "source": "some text"
    },
    {
      "metadata": {},
      "execution_count": null,
      "cell_type": "code",
      "source": "print(4*4)",
      "outputs": [
        {
          "metadata": {},
          "output_type": "execute_result",
          "data": {
            "text/plain": "16"
          },
          "execution_count": null
        }
      ]
    },
    {
      "metadata": {},
      "execution_count": null,
      "cell_type": "code",
      "source": "%%bash\nprint(4*4)",
      "outputs": [
        {
          "metadata": {},
          "output_type": "execute_result",
          "data": {
            "text/plain": "16"
          },
          "execution_count": null
        }
      ]
    },
    {
      "metadata": {},
      "cell_type": "markdown",
      "source": "An image:"
    },
    {
      "metadata": {},
      "cell_type": "markdown",
      "source": "![Hello world](http://wristgeek.com/wp-content/uploads/2014/09/hello_world.png)"
    },
    {
      "metadata": {},
      "cell_type": "markdown",
      "source": "### Subtitle"
    },
    {
      "metadata": {},
      "cell_type": "markdown",
      "source": "a list"
    },
    {
      "metadata": {},
      "cell_type": "markdown",
      "source": "* One [small](http://www.google.fr) link!\n* Two\n    * 2.1\n    * 2.2\n* Three"
    },
    {
      "metadata": {},
      "cell_type": "markdown",
      "source": "and"
    },
    {
      "metadata": {},
      "cell_type": "markdown",
      "source": "1. Un\n2. Deux"
    },
    {
      "metadata": {},
      "execution_count": null,
      "cell_type": "code",
      "source": "import numpy as np\nimport matplotlib.pyplot as plt\n%matplotlib inline",
      "outputs": []
    },
    {
      "metadata": {},
      "execution_count": null,
      "cell_type": "code",
      "source": "plt.imshow(np.random.rand(5,5,4), interpolation='none');",
      "outputs": [
        {
          "metadata": {},
          "output_type": "execute_result",
          "data": {
            "text/plain": "<matplotlib.figure.Figure at 0x7f11be242748>"
          },
          "execution_count": null
        }
      ]
    },
    {
      "metadata": {},
      "cell_type": "markdown",
      "source": "> TIP (a block quote): That's all folks.\n> Last line."
    },
    {
      "metadata": {},
      "cell_type": "markdown",
      "source": "Last paragraph."
    }
  ],
  "nbformat_minor": 0,
  "nbformat": 4
}
