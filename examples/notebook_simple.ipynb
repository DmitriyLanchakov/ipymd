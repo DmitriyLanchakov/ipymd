{
  "metadata": {},
  "nbformat_minor": 0,
  "nbformat": 4,
  "cells": [
    {
      "metadata": {},
      "source": "# Header",
      "cell_type": "markdown"
    },
    {
      "metadata": {},
      "source": "A paragraph.",
      "cell_type": "markdown"
    },
    {
      "metadata": {},
      "source": "Python code:",
      "cell_type": "markdown"
    },
    {
      "execution_count": null,
      "outputs": [
        {
          "output_type": "execute_result",
          "metadata": {},
          "execution_count": null,
          "data": {
            "text/plain": "\"Hello world!\""
          }
        }
      ],
      "source": "print(\"Hello world!\")",
      "metadata": {},
      "cell_type": "code"
    },
    {
      "metadata": {},
      "source": "JavaScript code:",
      "cell_type": "markdown"
    },
    {
      "metadata": {},
      "source": "```javascript\nconsole.log(\"Hello world!\");\n```",
      "cell_type": "markdown"
    }
  ]
}
